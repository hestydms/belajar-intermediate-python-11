{
  "nbformat": 4,
  "nbformat_minor": 0,
  "metadata": {
    "colab": {
      "name": "Assignment_Numpy_Hesty Dewi Maria Siagian.ipynb",
      "provenance": [],
      "authorship_tag": "ABX9TyMhGxZuREW98UelO36zxaOI",
      "include_colab_link": true
    },
    "kernelspec": {
      "name": "python3",
      "display_name": "Python 3"
    },
    "language_info": {
      "name": "python"
    }
  },
  "cells": [
    {
      "cell_type": "markdown",
      "metadata": {
        "id": "view-in-github",
        "colab_type": "text"
      },
      "source": [
        "<a href=\"https://colab.research.google.com/github/hestydms/belajar-intermediate-python-11/blob/main/Assignment_Numpy_Hesty_Dewi_Maria_Siagian.ipynb\" target=\"_parent\"><img src=\"https://colab.research.google.com/assets/colab-badge.svg\" alt=\"Open In Colab\"/></a>"
      ]
    },
    {
      "cell_type": "code",
      "source": [
        "import numpy as np\n",
        "import random"
      ],
      "metadata": {
        "id": "IZDpm9HKpnWw"
      },
      "execution_count": 1,
      "outputs": []
    },
    {
      "cell_type": "markdown",
      "source": [
        "## 1. Create a 4x4 matrix with values ranging from 0 to 3."
      ],
      "metadata": {
        "id": "k0Sf8ymmpj03"
      }
    },
    {
      "cell_type": "code",
      "source": [
        "a = np.random.randint(0,4,(4,4))\n",
        "print(a)"
      ],
      "metadata": {
        "colab": {
          "base_uri": "https://localhost:8080/"
        },
        "id": "FG4GLH_spvrc",
        "outputId": "ad787e04-43dd-4484-a8f6-0758644dd826"
      },
      "execution_count": 4,
      "outputs": [
        {
          "output_type": "stream",
          "name": "stdout",
          "text": [
            "[[3 3 2 0]\n",
            " [0 3 1 3]\n",
            " [1 2 1 3]\n",
            " [1 2 1 1]]\n"
          ]
        }
      ]
    },
    {
      "cell_type": "markdown",
      "source": [
        "## 2. Create and array with shape of 4x4 and turn it into two arrays along the second axis."
      ],
      "metadata": {
        "id": "HBi0jSk5qKjJ"
      }
    },
    {
      "cell_type": "code",
      "source": [
        "b = np.random.randint(0,4,(4,4))\n",
        "print(\"array with shape of 4x4\")\n",
        "print(b)"
      ],
      "metadata": {
        "colab": {
          "base_uri": "https://localhost:8080/"
        },
        "id": "auFOLm8eqPau",
        "outputId": "c92b69be-06b6-412a-b122-12e4d4e8933f"
      },
      "execution_count": 8,
      "outputs": [
        {
          "output_type": "stream",
          "name": "stdout",
          "text": [
            "array with shape of 4x4\n",
            "[[3 2 2 1]\n",
            " [2 2 3 1]\n",
            " [0 2 1 3]\n",
            " [1 0 0 1]]\n"
          ]
        }
      ]
    },
    {
      "cell_type": "code",
      "source": [
        "b1 = np.vsplit(b,2)\n",
        "print(\"array with shape of 4x4 and split 2D vertically\")\n",
        "print(b1)"
      ],
      "metadata": {
        "colab": {
          "base_uri": "https://localhost:8080/"
        },
        "id": "5Oz0UD6Pq4ad",
        "outputId": "f9d6a536-edce-499f-aa11-a57c07c64250"
      },
      "execution_count": 12,
      "outputs": [
        {
          "output_type": "stream",
          "name": "stdout",
          "text": [
            "array with shape of 4x4 and split 2D vertically\n",
            "[array([[3, 2, 2, 1],\n",
            "       [2, 2, 3, 1]]), array([[0, 2, 1, 3],\n",
            "       [1, 0, 0, 1]])]\n"
          ]
        }
      ]
    },
    {
      "cell_type": "code",
      "source": [
        "b2 = np.hsplit(b,2)\n",
        "print(\"array with shape of 4x4 and split 2D horizontally\")\n",
        "print(b2)"
      ],
      "metadata": {
        "colab": {
          "base_uri": "https://localhost:8080/"
        },
        "id": "cK-SFMaZsccU",
        "outputId": "a728bdbc-b552-429c-db60-fb115bfb927d"
      },
      "execution_count": 13,
      "outputs": [
        {
          "output_type": "stream",
          "name": "stdout",
          "text": [
            "array with shape of 4x4 and split 2D horizontally\n",
            "[array([[3, 2],\n",
            "       [2, 2],\n",
            "       [0, 2],\n",
            "       [1, 0]]), array([[2, 1],\n",
            "       [3, 1],\n",
            "       [1, 3],\n",
            "       [0, 1]])]\n"
          ]
        }
      ]
    },
    {
      "cell_type": "code",
      "source": [
        ""
      ],
      "metadata": {
        "id": "Hu1CXvBEpxAU"
      },
      "execution_count": null,
      "outputs": []
    }
  ]
}